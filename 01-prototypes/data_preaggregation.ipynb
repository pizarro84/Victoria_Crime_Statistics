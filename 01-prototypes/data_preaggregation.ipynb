{
 "cells": [
  {
   "cell_type": "code",
   "execution_count": 1,
   "metadata": {},
   "outputs": [],
   "source": [
    "# Dependencies and Setup\n",
    "import matplotlib.pyplot as plt\n",
    "import pandas as pd\n",
    "import numpy as np\n",
    "import scipy.stats as st\n",
    "import math\n",
    "import random"
   ]
  },
  {
   "cell_type": "code",
   "execution_count": 5,
   "metadata": {},
   "outputs": [],
   "source": [
    "csv_path = \"../02-data/Sheet3.csv\"\n",
    "crime_df = pd.read_csv(csv_path)"
   ]
  },
  {
   "cell_type": "code",
   "execution_count": 7,
   "metadata": {},
   "outputs": [
    {
     "data": {
      "text/html": [
       "<div>\n",
       "<style scoped>\n",
       "    .dataframe tbody tr th:only-of-type {\n",
       "        vertical-align: middle;\n",
       "    }\n",
       "\n",
       "    .dataframe tbody tr th {\n",
       "        vertical-align: top;\n",
       "    }\n",
       "\n",
       "    .dataframe thead th {\n",
       "        text-align: right;\n",
       "    }\n",
       "</style>\n",
       "<table border=\"1\" class=\"dataframe\">\n",
       "  <thead>\n",
       "    <tr style=\"text-align: right;\">\n",
       "      <th></th>\n",
       "      <th>Year</th>\n",
       "      <th>Year_ending</th>\n",
       "      <th>Local_Government_Area</th>\n",
       "      <th>Postcode</th>\n",
       "      <th>Suburb/Town_Name</th>\n",
       "      <th>Offence_Division</th>\n",
       "      <th>Offence_Subdivision</th>\n",
       "      <th>Offence_Subgroup</th>\n",
       "      <th>Incidents_Recorded</th>\n",
       "    </tr>\n",
       "  </thead>\n",
       "  <tbody>\n",
       "    <tr>\n",
       "      <th>0</th>\n",
       "      <td>2020</td>\n",
       "      <td>December</td>\n",
       "      <td>Alpine</td>\n",
       "      <td>3691</td>\n",
       "      <td>Dederang</td>\n",
       "      <td>A Crimes against the person</td>\n",
       "      <td>A20 Assault and related offences</td>\n",
       "      <td>A211 FV Serious assault</td>\n",
       "      <td>1</td>\n",
       "    </tr>\n",
       "    <tr>\n",
       "      <th>1</th>\n",
       "      <td>2020</td>\n",
       "      <td>December</td>\n",
       "      <td>Alpine</td>\n",
       "      <td>3691</td>\n",
       "      <td>Dederang</td>\n",
       "      <td>B Property and deception offences</td>\n",
       "      <td>B40 Theft</td>\n",
       "      <td>B41 Motor vehicle theft</td>\n",
       "      <td>1</td>\n",
       "    </tr>\n",
       "    <tr>\n",
       "      <th>2</th>\n",
       "      <td>2020</td>\n",
       "      <td>December</td>\n",
       "      <td>Alpine</td>\n",
       "      <td>3691</td>\n",
       "      <td>Glen Creek</td>\n",
       "      <td>C Drug offences</td>\n",
       "      <td>C30 Drug use and possession</td>\n",
       "      <td>C32 Drug possession</td>\n",
       "      <td>1</td>\n",
       "    </tr>\n",
       "    <tr>\n",
       "      <th>3</th>\n",
       "      <td>2020</td>\n",
       "      <td>December</td>\n",
       "      <td>Alpine</td>\n",
       "      <td>3691</td>\n",
       "      <td>Gundowring</td>\n",
       "      <td>C Drug offences</td>\n",
       "      <td>C10 Drug dealing and trafficking</td>\n",
       "      <td>C12 Drug trafficking</td>\n",
       "      <td>1</td>\n",
       "    </tr>\n",
       "    <tr>\n",
       "      <th>4</th>\n",
       "      <td>2020</td>\n",
       "      <td>December</td>\n",
       "      <td>Alpine</td>\n",
       "      <td>3691</td>\n",
       "      <td>Gundowring</td>\n",
       "      <td>E Justice procedures offences</td>\n",
       "      <td>E10 Justice procedures</td>\n",
       "      <td>E13 Resist or hinder officer</td>\n",
       "      <td>1</td>\n",
       "    </tr>\n",
       "    <tr>\n",
       "      <th>...</th>\n",
       "      <td>...</td>\n",
       "      <td>...</td>\n",
       "      <td>...</td>\n",
       "      <td>...</td>\n",
       "      <td>...</td>\n",
       "      <td>...</td>\n",
       "      <td>...</td>\n",
       "      <td>...</td>\n",
       "      <td>...</td>\n",
       "    </tr>\n",
       "    <tr>\n",
       "      <th>317498</th>\n",
       "      <td>2011</td>\n",
       "      <td>December</td>\n",
       "      <td>Yarriambiack</td>\n",
       "      <td>3488</td>\n",
       "      <td>Speed</td>\n",
       "      <td>B Property and deception offences</td>\n",
       "      <td>B40 Theft</td>\n",
       "      <td>B49 Other theft</td>\n",
       "      <td>1</td>\n",
       "    </tr>\n",
       "    <tr>\n",
       "      <th>317499</th>\n",
       "      <td>2011</td>\n",
       "      <td>December</td>\n",
       "      <td>Yarriambiack</td>\n",
       "      <td>3489</td>\n",
       "      <td>Tempy</td>\n",
       "      <td>A Crimes against the person</td>\n",
       "      <td>A20 Assault and related offences</td>\n",
       "      <td>A212 Non-FV Serious assault</td>\n",
       "      <td>1</td>\n",
       "    </tr>\n",
       "    <tr>\n",
       "      <th>317500</th>\n",
       "      <td>2011</td>\n",
       "      <td>December</td>\n",
       "      <td>Yarriambiack</td>\n",
       "      <td>3489</td>\n",
       "      <td>Tempy</td>\n",
       "      <td>A Crimes against the person</td>\n",
       "      <td>A70 Stalking, harassment and threatening behav...</td>\n",
       "      <td>A732 Non-FV Threatening behaviour</td>\n",
       "      <td>1</td>\n",
       "    </tr>\n",
       "    <tr>\n",
       "      <th>317501</th>\n",
       "      <td>2011</td>\n",
       "      <td>December</td>\n",
       "      <td>Yarriambiack</td>\n",
       "      <td>3489</td>\n",
       "      <td>Tempy</td>\n",
       "      <td>B Property and deception offences</td>\n",
       "      <td>B20 Property damage</td>\n",
       "      <td>B21 Criminal damage</td>\n",
       "      <td>1</td>\n",
       "    </tr>\n",
       "    <tr>\n",
       "      <th>317502</th>\n",
       "      <td>2011</td>\n",
       "      <td>December</td>\n",
       "      <td>Yarriambiack</td>\n",
       "      <td>3491</td>\n",
       "      <td>Patchewollock</td>\n",
       "      <td>A Crimes against the person</td>\n",
       "      <td>Other crimes against the person</td>\n",
       "      <td>Other crimes against the person</td>\n",
       "      <td>3</td>\n",
       "    </tr>\n",
       "  </tbody>\n",
       "</table>\n",
       "<p>317503 rows × 9 columns</p>\n",
       "</div>"
      ],
      "text/plain": [
       "        Year Year_ending Local_Government_Area  Postcode Suburb/Town_Name  \\\n",
       "0       2020    December                Alpine      3691         Dederang   \n",
       "1       2020    December                Alpine      3691         Dederang   \n",
       "2       2020    December                Alpine      3691       Glen Creek   \n",
       "3       2020    December                Alpine      3691       Gundowring   \n",
       "4       2020    December                Alpine      3691       Gundowring   \n",
       "...      ...         ...                   ...       ...              ...   \n",
       "317498  2011    December          Yarriambiack      3488            Speed   \n",
       "317499  2011    December          Yarriambiack      3489            Tempy   \n",
       "317500  2011    December          Yarriambiack      3489            Tempy   \n",
       "317501  2011    December          Yarriambiack      3489            Tempy   \n",
       "317502  2011    December          Yarriambiack      3491    Patchewollock   \n",
       "\n",
       "                         Offence_Division  \\\n",
       "0             A Crimes against the person   \n",
       "1       B Property and deception offences   \n",
       "2                         C Drug offences   \n",
       "3                         C Drug offences   \n",
       "4           E Justice procedures offences   \n",
       "...                                   ...   \n",
       "317498  B Property and deception offences   \n",
       "317499        A Crimes against the person   \n",
       "317500        A Crimes against the person   \n",
       "317501  B Property and deception offences   \n",
       "317502        A Crimes against the person   \n",
       "\n",
       "                                      Offence_Subdivision  \\\n",
       "0                        A20 Assault and related offences   \n",
       "1                                               B40 Theft   \n",
       "2                             C30 Drug use and possession   \n",
       "3                        C10 Drug dealing and trafficking   \n",
       "4                                  E10 Justice procedures   \n",
       "...                                                   ...   \n",
       "317498                                          B40 Theft   \n",
       "317499                   A20 Assault and related offences   \n",
       "317500  A70 Stalking, harassment and threatening behav...   \n",
       "317501                                B20 Property damage   \n",
       "317502                    Other crimes against the person   \n",
       "\n",
       "                         Offence_Subgroup Incidents_Recorded  \n",
       "0                 A211 FV Serious assault                  1  \n",
       "1                 B41 Motor vehicle theft                  1  \n",
       "2                     C32 Drug possession                  1  \n",
       "3                    C12 Drug trafficking                  1  \n",
       "4            E13 Resist or hinder officer                  1  \n",
       "...                                   ...                ...  \n",
       "317498                    B49 Other theft                  1  \n",
       "317499        A212 Non-FV Serious assault                  1  \n",
       "317500  A732 Non-FV Threatening behaviour                  1  \n",
       "317501                B21 Criminal damage                  1  \n",
       "317502    Other crimes against the person                  3  \n",
       "\n",
       "[317503 rows x 9 columns]"
      ]
     },
     "execution_count": 7,
     "metadata": {},
     "output_type": "execute_result"
    }
   ],
   "source": [
    "crime_df"
   ]
  },
  {
   "cell_type": "code",
   "execution_count": 19,
   "metadata": {},
   "outputs": [
    {
     "data": {
      "text/plain": [
       "79"
      ]
     },
     "execution_count": 19,
     "metadata": {},
     "output_type": "execute_result"
    }
   ],
   "source": [
    "len(crime_df[\"Local_Government_Area\"].unique())"
   ]
  },
  {
   "cell_type": "code",
   "execution_count": 12,
   "metadata": {},
   "outputs": [
    {
     "data": {
      "text/plain": [
       "6"
      ]
     },
     "execution_count": 12,
     "metadata": {},
     "output_type": "execute_result"
    }
   ],
   "source": [
    "len(crime_df[\"Offence_Division\"].unique())  # pre-aggreate"
   ]
  },
  {
   "cell_type": "code",
   "execution_count": 15,
   "metadata": {},
   "outputs": [
    {
     "data": {
      "text/plain": [
       "array(['Alpine', 'Ararat', 'Ballarat', 'Banyule', 'Bass Coast', 'Baw Baw',\n",
       "       'Bayside', 'Benalla', 'Boroondara', 'Brimbank', 'Buloke',\n",
       "       'Campaspe', 'Cardinia', 'Casey', 'Central Goldfields',\n",
       "       'Colac-Otway', 'Corangamite', 'Darebin', 'East Gippsland',\n",
       "       'Frankston', 'Gannawarra', 'Glen Eira', 'Glenelg', 'Golden Plains',\n",
       "       'Greater Bendigo', 'Greater Dandenong', 'Greater Geelong',\n",
       "       'Greater Shepparton', 'Hepburn', 'Hindmarsh', 'Hobsons Bay',\n",
       "       'Horsham', 'Hume', 'Indigo', 'Kingston', 'Knox', 'Latrobe',\n",
       "       'Loddon', 'Macedon Ranges', 'Manningham', 'Mansfield',\n",
       "       'Maribyrnong', 'Maroondah', 'Melbourne', 'Melton', 'Mildura',\n",
       "       'Mitchell', 'Moira', 'Monash', 'Moonee Valley', 'Moorabool',\n",
       "       'Moreland', 'Mornington Peninsula', 'Mount Alexander', 'Moyne',\n",
       "       'Murrindindi', 'Nillumbik', 'Northern Grampians', 'Port Phillip',\n",
       "       'Pyrenees', 'Queenscliffe', 'South Gippsland',\n",
       "       'Southern Grampians', 'Stonnington', 'Strathbogie', 'Surf Coast',\n",
       "       'Swan Hill', 'Towong', 'Wangaratta', 'Warrnambool', 'Wellington',\n",
       "       'West Wimmera', 'Whitehorse', 'Whittlesea', 'Wodonga', 'Wyndham',\n",
       "       'Yarra', 'Yarra Ranges', 'Yarriambiack'], dtype=object)"
      ]
     },
     "execution_count": 15,
     "metadata": {},
     "output_type": "execute_result"
    }
   ],
   "source": [
    "crime_df[\"Local_Government_Area\"].unique()"
   ]
  },
  {
   "cell_type": "code",
   "execution_count": 34,
   "metadata": {},
   "outputs": [
    {
     "data": {
      "text/plain": [
       "Year                      int64\n",
       "Local_Government_Area    object\n",
       "Offence_Division         object\n",
       "Incidents_Recorded        int32\n",
       "dtype: object"
      ]
     },
     "execution_count": 34,
     "metadata": {},
     "output_type": "execute_result"
    }
   ],
   "source": [
    "#crime_df2.rename(columns={\"Drug Regimen\":\"DR\"})\n",
    "crime_df2 = pd.DataFrame(crime_df[[\"Year\",\"Local_Government_Area\",\"Offence_Division\",\"Incidents_Recorded\"]])\n",
    "crime_df2['Incidents_Recorded'] = crime_df2['Incidents_Recorded'] .str.replace('[^0-9 ]', '')\n",
    "crime_df2['Incidents_Recorded'] = crime_df2['Incidents_Recorded'].astype(int)\n",
    "crime_df2.dtypes"
   ]
  },
  {
   "cell_type": "code",
   "execution_count": 40,
   "metadata": {},
   "outputs": [],
   "source": [
    "pd.DataFrame(crime_df2.\n",
    "             groupby([\"Local_Government_Area\",\"Offence_Division\"],as_index=False)[\"Incidents_Recorded\"].\n",
    "             sum()).to_csv('../02-data/crimesdata_pre_aggregate.csv')"
   ]
  }
 ],
 "metadata": {
  "kernelspec": {
   "display_name": "Python 3",
   "language": "python",
   "name": "python3"
  },
  "language_info": {
   "codemirror_mode": {
    "name": "ipython",
    "version": 3
   },
   "file_extension": ".py",
   "mimetype": "text/x-python",
   "name": "python",
   "nbconvert_exporter": "python",
   "pygments_lexer": "ipython3",
   "version": "3.6.10"
  }
 },
 "nbformat": 4,
 "nbformat_minor": 4
}
